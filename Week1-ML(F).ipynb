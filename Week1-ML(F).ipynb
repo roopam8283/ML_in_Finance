{
 "cells": [
  {
   "cell_type": "code",
   "execution_count": 41,
   "id": "40de35d5-7524-4e06-b7cb-4a95799adc43",
   "metadata": {},
   "outputs": [
    {
     "name": "stdout",
     "output_type": "stream",
     "text": [
      "[[ 0  1  2  3  4  5  6  7  8  9 10 11 12 13 14 15 16 17 18 19 20 21 22 23\n",
      "  24 25 26 27 28 29 30 31 32 33 34 35 36 37 38 39 40 41 42 43 44 45 46 47\n",
      "  48 49 50 51 52 53 54 55 56 57 58 59 60 61 62 63 64 65 66 67 68 69 70 71\n",
      "  72 73 74 75 76 77 78 79 80 81 82 83 84 85 86 87 88 89 90 91 92 93]]\n"
     ]
    }
   ],
   "source": [
    "import numpy as np\n",
    "\n",
    "SID = 2423494\n",
    "LAST_TWO_DIGIT = 94\n",
    "\n",
    "if LAST_TWO_DIGIT < 10:\n",
    "   NUM_SELECTED = LAST_TWO_DIGIT + 100\n",
    "else:\n",
    "   NUM_SELECTED = LAST_TWO_DIGIT\n",
    "\n",
    "a = np.arange(NUM_SELECTED)\n",
    "a_2d = a.reshape(1,-1)\n",
    "b = a_2d.copy()\n",
    "print(b)"
   ]
  },
  {
   "cell_type": "code",
   "execution_count": null,
   "id": "a11827e8-34c0-4421-ace5-d9c3a349cacf",
   "metadata": {},
   "outputs": [],
   "source": []
  }
 ],
 "metadata": {
  "kernelspec": {
   "display_name": "Python [conda env:base] *",
   "language": "python",
   "name": "conda-base-py"
  },
  "language_info": {
   "codemirror_mode": {
    "name": "ipython",
    "version": 3
   },
   "file_extension": ".py",
   "mimetype": "text/x-python",
   "name": "python",
   "nbconvert_exporter": "python",
   "pygments_lexer": "ipython3",
   "version": "3.12.7"
  }
 },
 "nbformat": 4,
 "nbformat_minor": 5
}
